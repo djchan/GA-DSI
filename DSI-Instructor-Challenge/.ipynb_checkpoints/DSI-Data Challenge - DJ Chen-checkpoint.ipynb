{
 "cells": [
  {
   "cell_type": "markdown",
   "metadata": {},
   "source": [
    "# DSI-Data Challenge - DJ Chen\n",
    "\n",
    "- **Part 1 - Modeling**\n",
    "    - 1. Python Coding and Data Set\n",
    "    - 2. Exploratory Analysis\n",
    "    - 3. Modelling\n",
    "    - 4. Explanation\n",
    "- **Part 2 - Feedback**\n",
    "    - 1. DSI-Instructor-task/part-2-student-samples/student-sample-1.py\n",
    "    - 2. DSI-Instructor-task/part-2-student-samples/student-sample-2.py\n",
    "    \n",
    "    \n",
    "Contact: dchen36@hawk.iit.edu"
   ]
  },
  {
   "cell_type": "markdown",
   "metadata": {},
   "source": [
    "# Part 1- Modeling"
   ]
  },
  {
   "cell_type": "code",
   "execution_count": 8,
   "metadata": {},
   "outputs": [],
   "source": [
    "import pandas as pd\n",
    "import numpy as np\n",
    "import os\n",
    "import scipy.stats as stats"
   ]
  },
  {
   "cell_type": "code",
   "execution_count": 257,
   "metadata": {},
   "outputs": [
    {
     "name": "stdout",
     "output_type": "stream",
     "text": [
      "(569, 32)\n"
     ]
    },
    {
     "data": {
      "text/html": [
       "<div>\n",
       "<style scoped>\n",
       "    .dataframe tbody tr th:only-of-type {\n",
       "        vertical-align: middle;\n",
       "    }\n",
       "\n",
       "    .dataframe tbody tr th {\n",
       "        vertical-align: top;\n",
       "    }\n",
       "\n",
       "    .dataframe thead th {\n",
       "        text-align: right;\n",
       "    }\n",
       "</style>\n",
       "<table border=\"1\" class=\"dataframe\">\n",
       "  <thead>\n",
       "    <tr style=\"text-align: right;\">\n",
       "      <th></th>\n",
       "      <th>ID</th>\n",
       "      <th>diagnosis</th>\n",
       "      <th>radius_mean</th>\n",
       "      <th>radius_sd_error</th>\n",
       "      <th>radius_worst</th>\n",
       "      <th>texture_mean</th>\n",
       "      <th>texture_sd_error</th>\n",
       "      <th>texture_worst</th>\n",
       "      <th>perimeter_mean</th>\n",
       "      <th>perimeter_sd_error</th>\n",
       "      <th>...</th>\n",
       "      <th>concavity_worst</th>\n",
       "      <th>concave_points_mean</th>\n",
       "      <th>concave_points_sd_error</th>\n",
       "      <th>concave_points_worst</th>\n",
       "      <th>symmetry_mean</th>\n",
       "      <th>symmetry_sd_error</th>\n",
       "      <th>symmetry_worst</th>\n",
       "      <th>fractal_dimension_mean</th>\n",
       "      <th>fractal_dimension_sd_error</th>\n",
       "      <th>fractal_dimension_worst</th>\n",
       "    </tr>\n",
       "  </thead>\n",
       "  <tbody>\n",
       "    <tr>\n",
       "      <th>0</th>\n",
       "      <td>842302</td>\n",
       "      <td>M</td>\n",
       "      <td>17.99</td>\n",
       "      <td>10.38</td>\n",
       "      <td>122.80</td>\n",
       "      <td>1001.0</td>\n",
       "      <td>0.11840</td>\n",
       "      <td>0.27760</td>\n",
       "      <td>0.3001</td>\n",
       "      <td>0.14710</td>\n",
       "      <td>...</td>\n",
       "      <td>25.38</td>\n",
       "      <td>17.33</td>\n",
       "      <td>184.60</td>\n",
       "      <td>2019.0</td>\n",
       "      <td>0.1622</td>\n",
       "      <td>0.6656</td>\n",
       "      <td>0.7119</td>\n",
       "      <td>0.2654</td>\n",
       "      <td>0.4601</td>\n",
       "      <td>0.11890</td>\n",
       "    </tr>\n",
       "    <tr>\n",
       "      <th>1</th>\n",
       "      <td>842517</td>\n",
       "      <td>M</td>\n",
       "      <td>20.57</td>\n",
       "      <td>17.77</td>\n",
       "      <td>132.90</td>\n",
       "      <td>1326.0</td>\n",
       "      <td>0.08474</td>\n",
       "      <td>0.07864</td>\n",
       "      <td>0.0869</td>\n",
       "      <td>0.07017</td>\n",
       "      <td>...</td>\n",
       "      <td>24.99</td>\n",
       "      <td>23.41</td>\n",
       "      <td>158.80</td>\n",
       "      <td>1956.0</td>\n",
       "      <td>0.1238</td>\n",
       "      <td>0.1866</td>\n",
       "      <td>0.2416</td>\n",
       "      <td>0.1860</td>\n",
       "      <td>0.2750</td>\n",
       "      <td>0.08902</td>\n",
       "    </tr>\n",
       "    <tr>\n",
       "      <th>2</th>\n",
       "      <td>84300903</td>\n",
       "      <td>M</td>\n",
       "      <td>19.69</td>\n",
       "      <td>21.25</td>\n",
       "      <td>130.00</td>\n",
       "      <td>1203.0</td>\n",
       "      <td>0.10960</td>\n",
       "      <td>0.15990</td>\n",
       "      <td>0.1974</td>\n",
       "      <td>0.12790</td>\n",
       "      <td>...</td>\n",
       "      <td>23.57</td>\n",
       "      <td>25.53</td>\n",
       "      <td>152.50</td>\n",
       "      <td>1709.0</td>\n",
       "      <td>0.1444</td>\n",
       "      <td>0.4245</td>\n",
       "      <td>0.4504</td>\n",
       "      <td>0.2430</td>\n",
       "      <td>0.3613</td>\n",
       "      <td>0.08758</td>\n",
       "    </tr>\n",
       "    <tr>\n",
       "      <th>3</th>\n",
       "      <td>84348301</td>\n",
       "      <td>M</td>\n",
       "      <td>11.42</td>\n",
       "      <td>20.38</td>\n",
       "      <td>77.58</td>\n",
       "      <td>386.1</td>\n",
       "      <td>0.14250</td>\n",
       "      <td>0.28390</td>\n",
       "      <td>0.2414</td>\n",
       "      <td>0.10520</td>\n",
       "      <td>...</td>\n",
       "      <td>14.91</td>\n",
       "      <td>26.50</td>\n",
       "      <td>98.87</td>\n",
       "      <td>567.7</td>\n",
       "      <td>0.2098</td>\n",
       "      <td>0.8663</td>\n",
       "      <td>0.6869</td>\n",
       "      <td>0.2575</td>\n",
       "      <td>0.6638</td>\n",
       "      <td>0.17300</td>\n",
       "    </tr>\n",
       "    <tr>\n",
       "      <th>4</th>\n",
       "      <td>84358402</td>\n",
       "      <td>M</td>\n",
       "      <td>20.29</td>\n",
       "      <td>14.34</td>\n",
       "      <td>135.10</td>\n",
       "      <td>1297.0</td>\n",
       "      <td>0.10030</td>\n",
       "      <td>0.13280</td>\n",
       "      <td>0.1980</td>\n",
       "      <td>0.10430</td>\n",
       "      <td>...</td>\n",
       "      <td>22.54</td>\n",
       "      <td>16.67</td>\n",
       "      <td>152.20</td>\n",
       "      <td>1575.0</td>\n",
       "      <td>0.1374</td>\n",
       "      <td>0.2050</td>\n",
       "      <td>0.4000</td>\n",
       "      <td>0.1625</td>\n",
       "      <td>0.2364</td>\n",
       "      <td>0.07678</td>\n",
       "    </tr>\n",
       "  </tbody>\n",
       "</table>\n",
       "<p>5 rows × 32 columns</p>\n",
       "</div>"
      ],
      "text/plain": [
       "         ID diagnosis  radius_mean  radius_sd_error  radius_worst  \\\n",
       "0    842302         M        17.99            10.38        122.80   \n",
       "1    842517         M        20.57            17.77        132.90   \n",
       "2  84300903         M        19.69            21.25        130.00   \n",
       "3  84348301         M        11.42            20.38         77.58   \n",
       "4  84358402         M        20.29            14.34        135.10   \n",
       "\n",
       "   texture_mean  texture_sd_error  texture_worst  perimeter_mean  \\\n",
       "0        1001.0           0.11840        0.27760          0.3001   \n",
       "1        1326.0           0.08474        0.07864          0.0869   \n",
       "2        1203.0           0.10960        0.15990          0.1974   \n",
       "3         386.1           0.14250        0.28390          0.2414   \n",
       "4        1297.0           0.10030        0.13280          0.1980   \n",
       "\n",
       "   perimeter_sd_error  ...  concavity_worst  concave_points_mean  \\\n",
       "0             0.14710  ...            25.38                17.33   \n",
       "1             0.07017  ...            24.99                23.41   \n",
       "2             0.12790  ...            23.57                25.53   \n",
       "3             0.10520  ...            14.91                26.50   \n",
       "4             0.10430  ...            22.54                16.67   \n",
       "\n",
       "   concave_points_sd_error  concave_points_worst  symmetry_mean  \\\n",
       "0                   184.60                2019.0         0.1622   \n",
       "1                   158.80                1956.0         0.1238   \n",
       "2                   152.50                1709.0         0.1444   \n",
       "3                    98.87                 567.7         0.2098   \n",
       "4                   152.20                1575.0         0.1374   \n",
       "\n",
       "   symmetry_sd_error  symmetry_worst  fractal_dimension_mean  \\\n",
       "0             0.6656          0.7119                  0.2654   \n",
       "1             0.1866          0.2416                  0.1860   \n",
       "2             0.4245          0.4504                  0.2430   \n",
       "3             0.8663          0.6869                  0.2575   \n",
       "4             0.2050          0.4000                  0.1625   \n",
       "\n",
       "   fractal_dimension_sd_error  fractal_dimension_worst  \n",
       "0                      0.4601                  0.11890  \n",
       "1                      0.2750                  0.08902  \n",
       "2                      0.3613                  0.08758  \n",
       "3                      0.6638                  0.17300  \n",
       "4                      0.2364                  0.07678  \n",
       "\n",
       "[5 rows x 32 columns]"
      ]
     },
     "execution_count": 257,
     "metadata": {},
     "output_type": "execute_result"
    }
   ],
   "source": [
    "# paths config\n",
    "part1_dir = \"part-1-dataset\"\n",
    "part1_field_path = os.path.join(part1_dir, \"field_names.txt\")\n",
    "part1_data_path = os.path.join(part1_dir, \"breast-cancer.csv\")\n",
    "\n",
    "# Read in fields name and clean\n",
    "with open(part1_field_path) as f:\n",
    "    columns = f.readlines()\n",
    "columns = [col.replace(\"\\n\", \"\") for col in columns]\n",
    "\n",
    "# Read dataset and insert columns name\n",
    "df = pd.read_csv(part1_data_path, header=None)\n",
    "df.columns = columns\n",
    "print(df.shape)\n",
    "df.head()"
   ]
  },
  {
   "cell_type": "markdown",
   "metadata": {},
   "source": [
    "## 1. Python Coding and Data Set\n",
    "\n",
    "- Load in the data file and header file provided\n",
    "    - The dataframe does not currently have a header, load in the header file and\n",
    "attach it to the dataframe\n",
    "- Comment on any steps you might take to evaluate or transform the dataset.\n",
    "- Compute the mean and median smoothness and compactness for benign and malignant tumors - do they differ? Explain how you would identify this.\n",
    "- Write a function to generate bootstrap samples of the data."
   ]
  },
  {
   "cell_type": "markdown",
   "metadata": {},
   "source": [
    "### Smoothness"
   ]
  },
  {
   "cell_type": "code",
   "execution_count": 4,
   "metadata": {},
   "outputs": [
    {
     "data": {
      "text/plain": [
       "<matplotlib.axes._subplots.AxesSubplot at 0x7f9d23f66ed0>"
      ]
     },
     "execution_count": 4,
     "metadata": {},
     "output_type": "execute_result"
    },
    {
     "data": {
      "image/png": "[encoded data removed]",
      "text/plain": [
       "<Figure size 432x288 with 1 Axes>"
      ]
     },
     "metadata": {
      "needs_background": "light"
     },
     "output_type": "display_data"
    }
   ],
   "source": [
    "df[\"smoothness_mean\"].hist()"
   ]
  },
  {
   "cell_type": "code",
   "execution_count": 5,
   "metadata": {},
   "outputs": [
    {
     "data": {
      "text/plain": [
       "<matplotlib.axes._subplots.AxesSubplot at 0x7f9d2407cb50>"
      ]
     },
     "execution_count": 5,
     "metadata": {},
     "output_type": "execute_result"
    },
    {
     "data": {
      "image/png": "[encoded data removed]",
      "text/plain": [
       "<Figure size 432x288 with 1 Axes>"
      ]
     },
     "metadata": {
      "needs_background": "light"
     },
     "output_type": "display_data"
    }
   ],
   "source": [
    "df[\"smoothness_mean_log\"] = np.log(df[\"smoothness_mean\"])\n",
    "df[\"smoothness_mean_log\"].hist()"
   ]
  },
  {
   "cell_type": "code",
   "execution_count": 6,
   "metadata": {},
   "outputs": [
    {
     "data": {
      "text/plain": [
       "<matplotlib.axes._subplots.AxesSubplot at 0x7f9d24176390>"
      ]
     },
     "execution_count": 6,
     "metadata": {},
     "output_type": "execute_result"
    },
    {
     "data": {
      "image/png": "[encoded data removed]",
      "text/plain": [
       "<Figure size 432x288 with 1 Axes>"
      ]
     },
     "metadata": {
      "needs_background": "light"
     },
     "output_type": "display_data"
    }
   ],
   "source": [
    "df.loc[df[\"diagnosis\"]==\"M\", \"smoothness_mean_log\"].hist()\n",
    "df.loc[df[\"diagnosis\"]==\"B\", \"smoothness_mean_log\"].hist()"
   ]
  },
  {
   "cell_type": "code",
   "execution_count": 9,
   "metadata": {},
   "outputs": [
    {
     "name": "stdout",
     "output_type": "stream",
     "text": [
      "Z Score from formula: 18.109142214602844\n",
      "T test result from Stats Package: Ttest_indResult(statistic=18.109142214602837, pvalue=4.484331648143234e-52)\n"
     ]
    }
   ],
   "source": [
    "# since they are not close to normal distribution, we took the log of it to bring it closer to normal\n",
    "# so that we can derive better accurate T-test results, because T-test assumption is that\n",
    "# the samples are follow normal distribution\n",
    "\n",
    "# calculate the means\n",
    "M_smooth_mean = df.loc[df[\"diagnosis\"]==\"M\", \"smoothness_mean_log\"].mean()\n",
    "B_smooth_mean = df.loc[df[\"diagnosis\"]==\"B\", \"smoothness_mean_log\"].mean()\n",
    "\n",
    "# calculate the standard deviations\n",
    "M_smooth_std = df.loc[df[\"diagnosis\"]==\"M\", \"smoothness_mean_log\"].std()\n",
    "B_smooth_std = df.loc[df[\"diagnosis\"]==\"B\", \"smoothness_mean_log\"].std()\n",
    "\n",
    "# calculate the sample sizes\n",
    "M_n = len(df[df[\"diagnosis\"]==\"M\"])\n",
    "B_n = len(df[df[\"diagnosis\"]==\"B\"])\n",
    "\n",
    "# demonstrate Two-Sample T-test formula\n",
    "z_score = (M_smooth_mean - B_smooth_mean) / np.sqrt(M_smooth_std**2/M_n + B_smooth_std**2/B_n)\n",
    "\n",
    "# use stats to compute Z-score and P-value for T-test\n",
    "t_test = stats.ttest_ind(\n",
    "    a=df.loc[df[\"diagnosis\"]==\"M\", \"smoothness_mean_log\"],\n",
    "    b=df.loc[df[\"diagnosis\"]==\"B\", \"smoothness_mean_log\"],\n",
    "    equal_var=False)\n",
    "\n",
    "# std out mean test results\n",
    "print(\"Z Score from formula:\", z_score)\n",
    "print(\"T test result from Stats Package:\", t_test)"
   ]
  },
  {
   "cell_type": "code",
   "execution_count": 29,
   "metadata": {},
   "outputs": [
    {
     "name": "stdout",
     "output_type": "stream",
     "text": [
      "Chi Stats from manual input formula: 151.64084507042253\n",
      "Mood’s median test statistic: 158.88194504440074\n",
      "Mood’s median test P-value: 1.985798026355439e-36\n"
     ]
    }
   ],
   "source": [
    "# Mood Median Tests\n",
    "median = df[\"smoothness_mean\"].median()\n",
    "M_small = len(df[(df[\"diagnosis\"]==\"M\") & (df[\"smoothness_mean\"] <= median)])\n",
    "M_large = len(df[(df[\"diagnosis\"]==\"M\") & (df[\"smoothness_mean\"] > median)])\n",
    "\n",
    "B_small = len(df[(df[\"diagnosis\"]==\"B\") & (df[\"smoothness_mean\"] <= median)])\n",
    "B_large = len(df[(df[\"diagnosis\"]==\"B\") & (df[\"smoothness_mean\"] > median)])\n",
    "\n",
    "# List hypothesis\n",
    "# H0: The number of samples smaller than median are equal in both B v.s M groups\n",
    "# H1: The number of samples smaller than median are not equal in both B v.s M groups\n",
    "exp_obs = len(df[df[\"smoothness_mean\"] > median])\n",
    "chi_stats = ((M_large - exp_obs) ** 2 / exp_obs) + ((B_large - exp_obs) ** 2 / exp_obs)\n",
    "print(\"Chi Stats from manual input formula:\", chi_stats)\n",
    "\n",
    "# use stats for its median tests\n",
    "mood_med_test = stats.median_test(df.loc[df[\"diagnosis\"]==\"M\", \"smoothness_mean\"],\n",
    "                                  df.loc[df[\"diagnosis\"]==\"B\", \"smoothness_mean\"])\n",
    "print(\"Mood’s median test statistic:\", mood_med_test[0])\n",
    "print(\"Mood’s median test P-value:\", mood_med_test[1])"
   ]
  },
  {
   "cell_type": "markdown",
   "metadata": {},
   "source": [
    "The P-value is very close to 0 in both mean and median tests, so we can conclude that sample mean and median of smoothness from Benign and Malignant tumors are from 2 different distribution."
   ]
  },
  {
   "cell_type": "markdown",
   "metadata": {},
   "source": [
    "### Compactness\n",
    "\n",
    "We use the same approach and conclude the similar results for compactness testing"
   ]
  },
  {
   "cell_type": "code",
   "execution_count": 28,
   "metadata": {},
   "outputs": [
    {
     "name": "stdout",
     "output_type": "stream",
     "text": [
      "T test result from Stats Package: Ttest_indResult(statistic=9.834179562172357, pvalue=4.974896907187339e-21)\n",
      "Mood’s median test statistic: 74.2408083954673\n",
      "Mood’s median test P-value: 6.914602528857842e-18\n"
     ]
    }
   ],
   "source": [
    "# since they are not close to normal distribution, we took the log of it to bring it closer to normal\n",
    "# so that we can derive better accurate T-test results, because T-test assumption is that\n",
    "# the samples are follow normal distribution\n",
    "\n",
    "# compute the log\n",
    "df[\"compactness_mean_log\"] = np.log(df[\"compactness_mean\"])\n",
    "\n",
    "# use stats to compute Z-score and P-value \n",
    "t_test = stats.ttest_ind(\n",
    "    a=df.loc[df[\"diagnosis\"]==\"M\", \"compactness_mean_log\"],\n",
    "    b=df.loc[df[\"diagnosis\"]==\"B\", \"compactness_mean_log\"],\n",
    "    equal_var=False)\n",
    "\n",
    "# std out results\n",
    "print(\"T test result from Stats Package:\", t_test)\n",
    "\n",
    "# use stats for its median tests\n",
    "mood_med_test = stats.median_test(df.loc[df[\"diagnosis\"]==\"M\", \"compactness_mean\"],\n",
    "                                  df.loc[df[\"diagnosis\"]==\"B\", \"compactness_mean\"])\n",
    "print(\"Mood’s median test statistic:\", mood_med_test[0])\n",
    "print(\"Mood’s median test P-value:\", mood_med_test[1])"
   ]
  },
  {
   "cell_type": "markdown",
   "metadata": {},
   "source": []
  },
  {
   "cell_type": "markdown",
   "metadata": {},
   "source": [
    "### Bootstrap Sampe Function\n",
    "\n",
    "Bootstrapping is a resampling technique that involves repeatedly drawing samples from our source data with replacement."
   ]
  },
  {
   "cell_type": "code",
   "execution_count": 261,
   "metadata": {},
   "outputs": [
    {
     "data": {
      "text/html": [
       "<div>\n",
       "<style scoped>\n",
       "    .dataframe tbody tr th:only-of-type {\n",
       "        vertical-align: middle;\n",
       "    }\n",
       "\n",
       "    .dataframe tbody tr th {\n",
       "        vertical-align: top;\n",
       "    }\n",
       "\n",
       "    .dataframe thead th {\n",
       "        text-align: right;\n",
       "    }\n",
       "</style>\n",
       "<table border=\"1\" class=\"dataframe\">\n",
       "  <thead>\n",
       "    <tr style=\"text-align: right;\">\n",
       "      <th></th>\n",
       "      <th>ID</th>\n",
       "      <th>diagnosis</th>\n",
       "      <th>radius_mean</th>\n",
       "      <th>radius_sd_error</th>\n",
       "      <th>radius_worst</th>\n",
       "      <th>texture_mean</th>\n",
       "      <th>texture_sd_error</th>\n",
       "      <th>texture_worst</th>\n",
       "      <th>perimeter_mean</th>\n",
       "      <th>perimeter_sd_error</th>\n",
       "      <th>...</th>\n",
       "      <th>concavity_worst</th>\n",
       "      <th>concave_points_mean</th>\n",
       "      <th>concave_points_sd_error</th>\n",
       "      <th>concave_points_worst</th>\n",
       "      <th>symmetry_mean</th>\n",
       "      <th>symmetry_sd_error</th>\n",
       "      <th>symmetry_worst</th>\n",
       "      <th>fractal_dimension_mean</th>\n",
       "      <th>fractal_dimension_sd_error</th>\n",
       "      <th>fractal_dimension_worst</th>\n",
       "    </tr>\n",
       "  </thead>\n",
       "  <tbody>\n",
       "    <tr>\n",
       "      <th>26</th>\n",
       "      <td>852763</td>\n",
       "      <td>M</td>\n",
       "      <td>14.580</td>\n",
       "      <td>21.53</td>\n",
       "      <td>97.41</td>\n",
       "      <td>644.8</td>\n",
       "      <td>0.10540</td>\n",
       "      <td>0.18680</td>\n",
       "      <td>0.142500</td>\n",
       "      <td>0.087830</td>\n",
       "      <td>...</td>\n",
       "      <td>17.62</td>\n",
       "      <td>33.21</td>\n",
       "      <td>122.40</td>\n",
       "      <td>896.9</td>\n",
       "      <td>0.15250</td>\n",
       "      <td>0.66430</td>\n",
       "      <td>0.553900</td>\n",
       "      <td>0.27010</td>\n",
       "      <td>0.4264</td>\n",
       "      <td>0.12750</td>\n",
       "    </tr>\n",
       "    <tr>\n",
       "      <th>63</th>\n",
       "      <td>859196</td>\n",
       "      <td>B</td>\n",
       "      <td>9.173</td>\n",
       "      <td>13.86</td>\n",
       "      <td>59.20</td>\n",
       "      <td>260.9</td>\n",
       "      <td>0.07721</td>\n",
       "      <td>0.08751</td>\n",
       "      <td>0.059880</td>\n",
       "      <td>0.021800</td>\n",
       "      <td>...</td>\n",
       "      <td>10.01</td>\n",
       "      <td>19.23</td>\n",
       "      <td>65.59</td>\n",
       "      <td>310.1</td>\n",
       "      <td>0.09836</td>\n",
       "      <td>0.16780</td>\n",
       "      <td>0.139700</td>\n",
       "      <td>0.05087</td>\n",
       "      <td>0.3282</td>\n",
       "      <td>0.08490</td>\n",
       "    </tr>\n",
       "    <tr>\n",
       "      <th>107</th>\n",
       "      <td>863270</td>\n",
       "      <td>B</td>\n",
       "      <td>12.360</td>\n",
       "      <td>18.54</td>\n",
       "      <td>79.01</td>\n",
       "      <td>466.7</td>\n",
       "      <td>0.08477</td>\n",
       "      <td>0.06815</td>\n",
       "      <td>0.026430</td>\n",
       "      <td>0.019210</td>\n",
       "      <td>...</td>\n",
       "      <td>13.29</td>\n",
       "      <td>27.49</td>\n",
       "      <td>85.56</td>\n",
       "      <td>544.1</td>\n",
       "      <td>0.11840</td>\n",
       "      <td>0.19630</td>\n",
       "      <td>0.193700</td>\n",
       "      <td>0.08442</td>\n",
       "      <td>0.2983</td>\n",
       "      <td>0.07185</td>\n",
       "    </tr>\n",
       "    <tr>\n",
       "      <th>123</th>\n",
       "      <td>865432</td>\n",
       "      <td>B</td>\n",
       "      <td>14.500</td>\n",
       "      <td>10.89</td>\n",
       "      <td>94.28</td>\n",
       "      <td>640.7</td>\n",
       "      <td>0.11010</td>\n",
       "      <td>0.10990</td>\n",
       "      <td>0.088420</td>\n",
       "      <td>0.057780</td>\n",
       "      <td>...</td>\n",
       "      <td>15.70</td>\n",
       "      <td>15.98</td>\n",
       "      <td>102.80</td>\n",
       "      <td>745.5</td>\n",
       "      <td>0.13130</td>\n",
       "      <td>0.17880</td>\n",
       "      <td>0.256000</td>\n",
       "      <td>0.12210</td>\n",
       "      <td>0.2889</td>\n",
       "      <td>0.08006</td>\n",
       "    </tr>\n",
       "    <tr>\n",
       "      <th>143</th>\n",
       "      <td>869224</td>\n",
       "      <td>B</td>\n",
       "      <td>12.900</td>\n",
       "      <td>15.92</td>\n",
       "      <td>83.74</td>\n",
       "      <td>512.2</td>\n",
       "      <td>0.08677</td>\n",
       "      <td>0.09509</td>\n",
       "      <td>0.048940</td>\n",
       "      <td>0.030880</td>\n",
       "      <td>...</td>\n",
       "      <td>14.48</td>\n",
       "      <td>21.82</td>\n",
       "      <td>97.17</td>\n",
       "      <td>643.8</td>\n",
       "      <td>0.13120</td>\n",
       "      <td>0.25480</td>\n",
       "      <td>0.209000</td>\n",
       "      <td>0.10120</td>\n",
       "      <td>0.3549</td>\n",
       "      <td>0.08118</td>\n",
       "    </tr>\n",
       "    <tr>\n",
       "      <th>150</th>\n",
       "      <td>871001501</td>\n",
       "      <td>B</td>\n",
       "      <td>13.000</td>\n",
       "      <td>20.78</td>\n",
       "      <td>83.51</td>\n",
       "      <td>519.4</td>\n",
       "      <td>0.11350</td>\n",
       "      <td>0.07589</td>\n",
       "      <td>0.031360</td>\n",
       "      <td>0.026450</td>\n",
       "      <td>...</td>\n",
       "      <td>14.16</td>\n",
       "      <td>24.11</td>\n",
       "      <td>90.82</td>\n",
       "      <td>616.7</td>\n",
       "      <td>0.12970</td>\n",
       "      <td>0.11050</td>\n",
       "      <td>0.081120</td>\n",
       "      <td>0.06296</td>\n",
       "      <td>0.3196</td>\n",
       "      <td>0.06435</td>\n",
       "    </tr>\n",
       "    <tr>\n",
       "      <th>249</th>\n",
       "      <td>884689</td>\n",
       "      <td>B</td>\n",
       "      <td>11.520</td>\n",
       "      <td>14.93</td>\n",
       "      <td>73.87</td>\n",
       "      <td>406.3</td>\n",
       "      <td>0.10130</td>\n",
       "      <td>0.07808</td>\n",
       "      <td>0.043280</td>\n",
       "      <td>0.029290</td>\n",
       "      <td>...</td>\n",
       "      <td>12.65</td>\n",
       "      <td>21.19</td>\n",
       "      <td>80.88</td>\n",
       "      <td>491.8</td>\n",
       "      <td>0.13890</td>\n",
       "      <td>0.15820</td>\n",
       "      <td>0.180400</td>\n",
       "      <td>0.09608</td>\n",
       "      <td>0.2664</td>\n",
       "      <td>0.07809</td>\n",
       "    </tr>\n",
       "    <tr>\n",
       "      <th>262</th>\n",
       "      <td>888570</td>\n",
       "      <td>M</td>\n",
       "      <td>17.290</td>\n",
       "      <td>22.13</td>\n",
       "      <td>114.40</td>\n",
       "      <td>947.8</td>\n",
       "      <td>0.08999</td>\n",
       "      <td>0.12730</td>\n",
       "      <td>0.096970</td>\n",
       "      <td>0.075070</td>\n",
       "      <td>...</td>\n",
       "      <td>20.39</td>\n",
       "      <td>27.24</td>\n",
       "      <td>137.90</td>\n",
       "      <td>1295.0</td>\n",
       "      <td>0.11340</td>\n",
       "      <td>0.28670</td>\n",
       "      <td>0.229800</td>\n",
       "      <td>0.15280</td>\n",
       "      <td>0.3067</td>\n",
       "      <td>0.07484</td>\n",
       "    </tr>\n",
       "    <tr>\n",
       "      <th>271</th>\n",
       "      <td>8910748</td>\n",
       "      <td>B</td>\n",
       "      <td>11.290</td>\n",
       "      <td>13.04</td>\n",
       "      <td>72.23</td>\n",
       "      <td>388.0</td>\n",
       "      <td>0.09834</td>\n",
       "      <td>0.07608</td>\n",
       "      <td>0.032650</td>\n",
       "      <td>0.027550</td>\n",
       "      <td>...</td>\n",
       "      <td>12.32</td>\n",
       "      <td>16.18</td>\n",
       "      <td>78.27</td>\n",
       "      <td>457.5</td>\n",
       "      <td>0.13580</td>\n",
       "      <td>0.15070</td>\n",
       "      <td>0.127500</td>\n",
       "      <td>0.08750</td>\n",
       "      <td>0.2733</td>\n",
       "      <td>0.08022</td>\n",
       "    </tr>\n",
       "    <tr>\n",
       "      <th>308</th>\n",
       "      <td>893526</td>\n",
       "      <td>B</td>\n",
       "      <td>13.500</td>\n",
       "      <td>12.71</td>\n",
       "      <td>85.69</td>\n",
       "      <td>566.2</td>\n",
       "      <td>0.07376</td>\n",
       "      <td>0.03614</td>\n",
       "      <td>0.002758</td>\n",
       "      <td>0.004419</td>\n",
       "      <td>...</td>\n",
       "      <td>14.97</td>\n",
       "      <td>16.94</td>\n",
       "      <td>95.48</td>\n",
       "      <td>698.7</td>\n",
       "      <td>0.09023</td>\n",
       "      <td>0.05836</td>\n",
       "      <td>0.013790</td>\n",
       "      <td>0.02210</td>\n",
       "      <td>0.2267</td>\n",
       "      <td>0.06192</td>\n",
       "    </tr>\n",
       "    <tr>\n",
       "      <th>318</th>\n",
       "      <td>894329</td>\n",
       "      <td>B</td>\n",
       "      <td>9.042</td>\n",
       "      <td>18.90</td>\n",
       "      <td>60.07</td>\n",
       "      <td>244.5</td>\n",
       "      <td>0.09968</td>\n",
       "      <td>0.19720</td>\n",
       "      <td>0.197500</td>\n",
       "      <td>0.049080</td>\n",
       "      <td>...</td>\n",
       "      <td>10.06</td>\n",
       "      <td>23.40</td>\n",
       "      <td>68.62</td>\n",
       "      <td>297.1</td>\n",
       "      <td>0.12210</td>\n",
       "      <td>0.37480</td>\n",
       "      <td>0.460900</td>\n",
       "      <td>0.11450</td>\n",
       "      <td>0.3135</td>\n",
       "      <td>0.10550</td>\n",
       "    </tr>\n",
       "    <tr>\n",
       "      <th>333</th>\n",
       "      <td>897137</td>\n",
       "      <td>B</td>\n",
       "      <td>11.250</td>\n",
       "      <td>14.78</td>\n",
       "      <td>71.38</td>\n",
       "      <td>390.0</td>\n",
       "      <td>0.08306</td>\n",
       "      <td>0.04458</td>\n",
       "      <td>0.000974</td>\n",
       "      <td>0.002941</td>\n",
       "      <td>...</td>\n",
       "      <td>12.76</td>\n",
       "      <td>22.06</td>\n",
       "      <td>82.08</td>\n",
       "      <td>492.7</td>\n",
       "      <td>0.11660</td>\n",
       "      <td>0.09794</td>\n",
       "      <td>0.005518</td>\n",
       "      <td>0.01667</td>\n",
       "      <td>0.2815</td>\n",
       "      <td>0.07418</td>\n",
       "    </tr>\n",
       "    <tr>\n",
       "      <th>349</th>\n",
       "      <td>899147</td>\n",
       "      <td>B</td>\n",
       "      <td>11.950</td>\n",
       "      <td>14.96</td>\n",
       "      <td>77.23</td>\n",
       "      <td>426.7</td>\n",
       "      <td>0.11580</td>\n",
       "      <td>0.12060</td>\n",
       "      <td>0.011710</td>\n",
       "      <td>0.017870</td>\n",
       "      <td>...</td>\n",
       "      <td>12.81</td>\n",
       "      <td>17.72</td>\n",
       "      <td>83.09</td>\n",
       "      <td>496.2</td>\n",
       "      <td>0.12930</td>\n",
       "      <td>0.18850</td>\n",
       "      <td>0.031220</td>\n",
       "      <td>0.04766</td>\n",
       "      <td>0.3124</td>\n",
       "      <td>0.07590</td>\n",
       "    </tr>\n",
       "    <tr>\n",
       "      <th>351</th>\n",
       "      <td>899667</td>\n",
       "      <td>M</td>\n",
       "      <td>15.750</td>\n",
       "      <td>19.22</td>\n",
       "      <td>107.10</td>\n",
       "      <td>758.6</td>\n",
       "      <td>0.12430</td>\n",
       "      <td>0.23640</td>\n",
       "      <td>0.291400</td>\n",
       "      <td>0.124200</td>\n",
       "      <td>...</td>\n",
       "      <td>17.36</td>\n",
       "      <td>24.17</td>\n",
       "      <td>119.40</td>\n",
       "      <td>915.3</td>\n",
       "      <td>0.15500</td>\n",
       "      <td>0.50460</td>\n",
       "      <td>0.687200</td>\n",
       "      <td>0.21350</td>\n",
       "      <td>0.4245</td>\n",
       "      <td>0.10500</td>\n",
       "    </tr>\n",
       "    <tr>\n",
       "      <th>387</th>\n",
       "      <td>902976</td>\n",
       "      <td>B</td>\n",
       "      <td>13.880</td>\n",
       "      <td>16.16</td>\n",
       "      <td>88.37</td>\n",
       "      <td>596.6</td>\n",
       "      <td>0.07026</td>\n",
       "      <td>0.04831</td>\n",
       "      <td>0.020450</td>\n",
       "      <td>0.008507</td>\n",
       "      <td>...</td>\n",
       "      <td>15.51</td>\n",
       "      <td>19.97</td>\n",
       "      <td>99.66</td>\n",
       "      <td>745.3</td>\n",
       "      <td>0.08484</td>\n",
       "      <td>0.12330</td>\n",
       "      <td>0.109100</td>\n",
       "      <td>0.04537</td>\n",
       "      <td>0.2542</td>\n",
       "      <td>0.06623</td>\n",
       "    </tr>\n",
       "    <tr>\n",
       "      <th>400</th>\n",
       "      <td>90439701</td>\n",
       "      <td>M</td>\n",
       "      <td>17.910</td>\n",
       "      <td>21.02</td>\n",
       "      <td>124.40</td>\n",
       "      <td>994.0</td>\n",
       "      <td>0.12300</td>\n",
       "      <td>0.25760</td>\n",
       "      <td>0.318900</td>\n",
       "      <td>0.119800</td>\n",
       "      <td>...</td>\n",
       "      <td>20.80</td>\n",
       "      <td>27.78</td>\n",
       "      <td>149.60</td>\n",
       "      <td>1304.0</td>\n",
       "      <td>0.18730</td>\n",
       "      <td>0.59170</td>\n",
       "      <td>0.903400</td>\n",
       "      <td>0.19640</td>\n",
       "      <td>0.3245</td>\n",
       "      <td>0.11980</td>\n",
       "    </tr>\n",
       "    <tr>\n",
       "      <th>407</th>\n",
       "      <td>905190</td>\n",
       "      <td>B</td>\n",
       "      <td>12.850</td>\n",
       "      <td>21.37</td>\n",
       "      <td>82.63</td>\n",
       "      <td>514.5</td>\n",
       "      <td>0.07551</td>\n",
       "      <td>0.08316</td>\n",
       "      <td>0.061260</td>\n",
       "      <td>0.018670</td>\n",
       "      <td>...</td>\n",
       "      <td>14.40</td>\n",
       "      <td>27.01</td>\n",
       "      <td>91.63</td>\n",
       "      <td>645.8</td>\n",
       "      <td>0.09402</td>\n",
       "      <td>0.19360</td>\n",
       "      <td>0.183800</td>\n",
       "      <td>0.05601</td>\n",
       "      <td>0.2488</td>\n",
       "      <td>0.08151</td>\n",
       "    </tr>\n",
       "    <tr>\n",
       "      <th>432</th>\n",
       "      <td>908194</td>\n",
       "      <td>M</td>\n",
       "      <td>20.180</td>\n",
       "      <td>19.54</td>\n",
       "      <td>133.80</td>\n",
       "      <td>1250.0</td>\n",
       "      <td>0.11330</td>\n",
       "      <td>0.14890</td>\n",
       "      <td>0.213300</td>\n",
       "      <td>0.125900</td>\n",
       "      <td>...</td>\n",
       "      <td>22.03</td>\n",
       "      <td>25.07</td>\n",
       "      <td>146.00</td>\n",
       "      <td>1479.0</td>\n",
       "      <td>0.16650</td>\n",
       "      <td>0.29420</td>\n",
       "      <td>0.530800</td>\n",
       "      <td>0.21730</td>\n",
       "      <td>0.3032</td>\n",
       "      <td>0.08075</td>\n",
       "    </tr>\n",
       "    <tr>\n",
       "      <th>468</th>\n",
       "      <td>9113538</td>\n",
       "      <td>M</td>\n",
       "      <td>17.600</td>\n",
       "      <td>23.33</td>\n",
       "      <td>119.00</td>\n",
       "      <td>980.5</td>\n",
       "      <td>0.09289</td>\n",
       "      <td>0.20040</td>\n",
       "      <td>0.213600</td>\n",
       "      <td>0.100200</td>\n",
       "      <td>...</td>\n",
       "      <td>21.57</td>\n",
       "      <td>28.87</td>\n",
       "      <td>143.60</td>\n",
       "      <td>1437.0</td>\n",
       "      <td>0.12070</td>\n",
       "      <td>0.47850</td>\n",
       "      <td>0.516500</td>\n",
       "      <td>0.19960</td>\n",
       "      <td>0.2301</td>\n",
       "      <td>0.12240</td>\n",
       "    </tr>\n",
       "    <tr>\n",
       "      <th>497</th>\n",
       "      <td>914580</td>\n",
       "      <td>B</td>\n",
       "      <td>12.470</td>\n",
       "      <td>17.31</td>\n",
       "      <td>80.45</td>\n",
       "      <td>480.1</td>\n",
       "      <td>0.08928</td>\n",
       "      <td>0.07630</td>\n",
       "      <td>0.036090</td>\n",
       "      <td>0.023690</td>\n",
       "      <td>...</td>\n",
       "      <td>14.06</td>\n",
       "      <td>24.34</td>\n",
       "      <td>92.82</td>\n",
       "      <td>607.3</td>\n",
       "      <td>0.12760</td>\n",
       "      <td>0.25060</td>\n",
       "      <td>0.202800</td>\n",
       "      <td>0.10530</td>\n",
       "      <td>0.3035</td>\n",
       "      <td>0.07661</td>\n",
       "    </tr>\n",
       "  </tbody>\n",
       "</table>\n",
       "<p>20 rows × 32 columns</p>\n",
       "</div>"
      ],
      "text/plain": [
       "            ID diagnosis  radius_mean  radius_sd_error  radius_worst  \\\n",
       "26      852763         M       14.580            21.53         97.41   \n",
       "63      859196         B        9.173            13.86         59.20   \n",
       "107     863270         B       12.360            18.54         79.01   \n",
       "123     865432         B       14.500            10.89         94.28   \n",
       "143     869224         B       12.900            15.92         83.74   \n",
       "150  871001501         B       13.000            20.78         83.51   \n",
       "249     884689         B       11.520            14.93         73.87   \n",
       "262     888570         M       17.290            22.13        114.40   \n",
       "271    8910748         B       11.290            13.04         72.23   \n",
       "308     893526         B       13.500            12.71         85.69   \n",
       "318     894329         B        9.042            18.90         60.07   \n",
       "333     897137         B       11.250            14.78         71.38   \n",
       "349     899147         B       11.950            14.96         77.23   \n",
       "351     899667         M       15.750            19.22        107.10   \n",
       "387     902976         B       13.880            16.16         88.37   \n",
       "400   90439701         M       17.910            21.02        124.40   \n",
       "407     905190         B       12.850            21.37         82.63   \n",
       "432     908194         M       20.180            19.54        133.80   \n",
       "468    9113538         M       17.600            23.33        119.00   \n",
       "497     914580         B       12.470            17.31         80.45   \n",
       "\n",
       "     texture_mean  texture_sd_error  texture_worst  perimeter_mean  \\\n",
       "26          644.8           0.10540        0.18680        0.142500   \n",
       "63          260.9           0.07721        0.08751        0.059880   \n",
       "107         466.7           0.08477        0.06815        0.026430   \n",
       "123         640.7           0.11010        0.10990        0.088420   \n",
       "143         512.2           0.08677        0.09509        0.048940   \n",
       "150         519.4           0.11350        0.07589        0.031360   \n",
       "249         406.3           0.10130        0.07808        0.043280   \n",
       "262         947.8           0.08999        0.12730        0.096970   \n",
       "271         388.0           0.09834        0.07608        0.032650   \n",
       "308         566.2           0.07376        0.03614        0.002758   \n",
       "318         244.5           0.09968        0.19720        0.197500   \n",
       "333         390.0           0.08306        0.04458        0.000974   \n",
       "349         426.7           0.11580        0.12060        0.011710   \n",
       "351         758.6           0.12430        0.23640        0.291400   \n",
       "387         596.6           0.07026        0.04831        0.020450   \n",
       "400         994.0           0.12300        0.25760        0.318900   \n",
       "407         514.5           0.07551        0.08316        0.061260   \n",
       "432        1250.0           0.11330        0.14890        0.213300   \n",
       "468         980.5           0.09289        0.20040        0.213600   \n",
       "497         480.1           0.08928        0.07630        0.036090   \n",
       "\n",
       "     perimeter_sd_error  ...  concavity_worst  concave_points_mean  \\\n",
       "26             0.087830  ...            17.62                33.21   \n",
       "63             0.021800  ...            10.01                19.23   \n",
       "107            0.019210  ...            13.29                27.49   \n",
       "123            0.057780  ...            15.70                15.98   \n",
       "143            0.030880  ...            14.48                21.82   \n",
       "150            0.026450  ...            14.16                24.11   \n",
       "249            0.029290  ...            12.65                21.19   \n",
       "262            0.075070  ...            20.39                27.24   \n",
       "271            0.027550  ...            12.32                16.18   \n",
       "308            0.004419  ...            14.97                16.94   \n",
       "318            0.049080  ...            10.06                23.40   \n",
       "333            0.002941  ...            12.76                22.06   \n",
       "349            0.017870  ...            12.81                17.72   \n",
       "351            0.124200  ...            17.36                24.17   \n",
       "387            0.008507  ...            15.51                19.97   \n",
       "400            0.119800  ...            20.80                27.78   \n",
       "407            0.018670  ...            14.40                27.01   \n",
       "432            0.125900  ...            22.03                25.07   \n",
       "468            0.100200  ...            21.57                28.87   \n",
       "497            0.023690  ...            14.06                24.34   \n",
       "\n",
       "     concave_points_sd_error  concave_points_worst  symmetry_mean  \\\n",
       "26                    122.40                 896.9        0.15250   \n",
       "63                     65.59                 310.1        0.09836   \n",
       "107                    85.56                 544.1        0.11840   \n",
       "123                   102.80                 745.5        0.13130   \n",
       "143                    97.17                 643.8        0.13120   \n",
       "150                    90.82                 616.7        0.12970   \n",
       "249                    80.88                 491.8        0.13890   \n",
       "262                   137.90                1295.0        0.11340   \n",
       "271                    78.27                 457.5        0.13580   \n",
       "308                    95.48                 698.7        0.09023   \n",
       "318                    68.62                 297.1        0.12210   \n",
       "333                    82.08                 492.7        0.11660   \n",
       "349                    83.09                 496.2        0.12930   \n",
       "351                   119.40                 915.3        0.15500   \n",
       "387                    99.66                 745.3        0.08484   \n",
       "400                   149.60                1304.0        0.18730   \n",
       "407                    91.63                 645.8        0.09402   \n",
       "432                   146.00                1479.0        0.16650   \n",
       "468                   143.60                1437.0        0.12070   \n",
       "497                    92.82                 607.3        0.12760   \n",
       "\n",
       "     symmetry_sd_error  symmetry_worst  fractal_dimension_mean  \\\n",
       "26             0.66430        0.553900                 0.27010   \n",
       "63             0.16780        0.139700                 0.05087   \n",
       "107            0.19630        0.193700                 0.08442   \n",
       "123            0.17880        0.256000                 0.12210   \n",
       "143            0.25480        0.209000                 0.10120   \n",
       "150            0.11050        0.081120                 0.06296   \n",
       "249            0.15820        0.180400                 0.09608   \n",
       "262            0.28670        0.229800                 0.15280   \n",
       "271            0.15070        0.127500                 0.08750   \n",
       "308            0.05836        0.013790                 0.02210   \n",
       "318            0.37480        0.460900                 0.11450   \n",
       "333            0.09794        0.005518                 0.01667   \n",
       "349            0.18850        0.031220                 0.04766   \n",
       "351            0.50460        0.687200                 0.21350   \n",
       "387            0.12330        0.109100                 0.04537   \n",
       "400            0.59170        0.903400                 0.19640   \n",
       "407            0.19360        0.183800                 0.05601   \n",
       "432            0.29420        0.530800                 0.21730   \n",
       "468            0.47850        0.516500                 0.19960   \n",
       "497            0.25060        0.202800                 0.10530   \n",
       "\n",
       "     fractal_dimension_sd_error  fractal_dimension_worst  \n",
       "26                       0.4264                  0.12750  \n",
       "63                       0.3282                  0.08490  \n",
       "107                      0.2983                  0.07185  \n",
       "123                      0.2889                  0.08006  \n",
       "143                      0.3549                  0.08118  \n",
       "150                      0.3196                  0.06435  \n",
       "249                      0.2664                  0.07809  \n",
       "262                      0.3067                  0.07484  \n",
       "271                      0.2733                  0.08022  \n",
       "308                      0.2267                  0.06192  \n",
       "318                      0.3135                  0.10550  \n",
       "333                      0.2815                  0.07418  \n",
       "349                      0.3124                  0.07590  \n",
       "351                      0.4245                  0.10500  \n",
       "387                      0.2542                  0.06623  \n",
       "400                      0.3245                  0.11980  \n",
       "407                      0.2488                  0.08151  \n",
       "432                      0.3032                  0.08075  \n",
       "468                      0.2301                  0.12240  \n",
       "497                      0.3035                  0.07661  \n",
       "\n",
       "[20 rows x 32 columns]"
      ]
     },
     "execution_count": 261,
     "metadata": {},
     "output_type": "execute_result"
    }
   ],
   "source": [
    "def bootstrap(data_df, n):\n",
    "    \"\"\"\n",
    "    Bootstrap sample given a dataset and number of samples.\n",
    "    \n",
    "    data_df: pd.DataFrame\n",
    "        Orignal dataset to be sampled.\n",
    "        \n",
    "    n: integer\n",
    "        the number of samples for bootstrapping\n",
    "        \n",
    "    Return: pd.DataFrame\n",
    "        Bootstrap Samples\n",
    "    \"\"\"\n",
    "    \n",
    "    # use numpy to generate integer as index from uniform distribution\n",
    "    # select sample according to random uniform index\n",
    "    sample_df_li = [data_df[data_df.index == np.random.randint(0, len(data_df) -1)] for i in range(n)]\n",
    "    \n",
    "    # union selected samples into dataframe\n",
    "    sample_df = pd.concat(sample_df_li).sort_index()\n",
    "    \n",
    "    return sample_df\n",
    "\n",
    "\n",
    "bootstrap(data_df=df, n=20)"
   ]
  },
  {
   "cell_type": "markdown",
   "metadata": {},
   "source": [
    "## 2. Exploratory Analysis\n",
    "\n",
    "According to distribution visualization, \"fractal_dimension_mean\", \"radius_mean\" and \"perimeter_sd_error\" are predictive of a malignant tumor, because the distribution of these attributes from the two groups are different. For example, \"radius_mean\" from Malignant group are generally larger than Benign group's."
   ]
  },
  {
   "cell_type": "code",
   "execution_count": 91,
   "metadata": {},
   "outputs": [],
   "source": [
    "import seaborn as sns\n",
    "import matplotlib.pyplot as plt"
   ]
  },
  {
   "cell_type": "code",
   "execution_count": 92,
   "metadata": {
    "scrolled": false
   },
   "outputs": [
    {
     "data": {
      "image/png": "[encoded data removed]",
      "text/plain": [
       "<Figure size 432x288 with 1 Axes>"
      ]
     },
     "metadata": {
      "needs_background": "light"
     },
     "output_type": "display_data"
    },
    {
     "data": {
      "image/png": "[encoded data removed]",
      "text/plain": [
       "<Figure size 432x288 with 1 Axes>"
      ]
     },
     "metadata": {
      "needs_background": "light"
     },
     "output_type": "display_data"
    },
    {
     "data": {
      "image/png": "[encoded data removed]",
      "text/plain": [
       "<Figure size 432x288 with 1 Axes>"
      ]
     },
     "metadata": {
      "needs_background": "light"
     },
     "output_type": "display_data"
    }
   ],
   "source": [
    "# visualize columns distribution w.r.t Malignant and Benign groups\n",
    "\n",
    "for col in df.columns:\n",
    "    ind = 1\n",
    "    \n",
    "    # selected cols to visualize, comment out for visualizing all cols\n",
    "    selected_col = [\"fractal_dimension_mean\", \"radius_mean\", \"perimeter_sd_error\"]\n",
    "    if col not in selected_col:\n",
    "        ind = 0\n",
    "        \n",
    "    if col not in [\"ID\", \"diagnosis\"] and ind:\n",
    "        sns.distplot(a=df.loc[df[\"diagnosis\"]==\"M\", col], label=\"Malignant\")\n",
    "        sns.distplot(a=df.loc[df[\"diagnosis\"]==\"B\", col], label=\"Benign\")\n",
    "        plt.legend()\n",
    "        plt.show()"
   ]
  },
  {
   "cell_type": "markdown",
   "metadata": {},
   "source": [
    "## Modeling"
   ]
  },
  {
   "cell_type": "code",
   "execution_count": 93,
   "metadata": {},
   "outputs": [],
   "source": [
    "from sklearn.tree import DecisionTreeClassifier\n",
    "from sklearn.linear_model import LogisticRegression"
   ]
  },
  {
   "cell_type": "code",
   "execution_count": 95,
   "metadata": {},
   "outputs": [
    {
     "data": {
      "text/plain": [
       "<seaborn.axisgrid.PairGrid at 0x7f9d114069d0>"
      ]
     },
     "execution_count": 95,
     "metadata": {},
     "output_type": "execute_result"
    },
    {
     "data": {
      "image/png": "[encoded data removed]",
      "text/plain": [
       "<Figure size 540x540 with 12 Axes>"
      ]
     },
     "metadata": {
      "needs_background": "light"
     },
     "output_type": "display_data"
    }
   ],
   "source": [
    "sns.pairplot(df[selected_col])"
   ]
  },
  {
   "cell_type": "markdown",
   "metadata": {},
   "source": [
    "### Compute VIF"
   ]
  },
  {
   "cell_type": "code",
   "execution_count": 134,
   "metadata": {},
   "outputs": [
    {
     "name": "stdout",
     "output_type": "stream",
     "text": [
      "   VIF Factor    Independent Variable\n",
      "0   21.852487  fractal_dimension_mean\n",
      "1    7.636862             radius_mean\n",
      "2   13.255282      perimeter_sd_error\n"
     ]
    }
   ],
   "source": [
    "from statsmodels.stats.outliers_influence import variance_inflation_factor\n",
    "import pandas as pd\n",
    "\n",
    "# Define the independent variables\n",
    "X = df[selected_col]\n",
    "\n",
    "# Calculate the VIF for each independent variable\n",
    "vif = pd.DataFrame()\n",
    "vif[\"VIF Factor\"] = [variance_inflation_factor(X.values, i) for i in range(X.shape[1])]\n",
    "vif[\"Independent Variable\"] = X.columns\n",
    "\n",
    "# Print the results\n",
    "print(vif)\n"
   ]
  },
  {
   "cell_type": "markdown",
   "metadata": {},
   "source": [
    "We chose Logistic Regression and Decision Tree for experiment. We list part of their pros and cons as follow.\n",
    "\n",
    "| | Logistic Regresssion | Decision Tree |\n",
    "|:-|:-|:-|\n",
    "| Advantages | - Easy to train, implement and interpret; <br/> - Works well with small dataset; <br/> - Regularization terms help control overfitting easily  | - Capture nonlinear relationship; <br/> - Works well with colinearity; <br/> - Easy to interpret; <br/> - Robust to outlier; |\n",
    "| Disvantages | - Cannot handle colinearity; <br/> - Sensitive to outlier; <br/> - Assume linear relationship between independent and dependent variables | - Hard to control overfitting; <br/> - omputational expensive with large datasets |"
   ]
  },
  {
   "cell_type": "markdown",
   "metadata": {},
   "source": [
    "## 3. Modeling\n",
    "\n",
    "In this session, we will a `Logistic Regression` and a `Decision Tree` models to predict the malignant tumors, and discuss the following topics:\n",
    "- The advantages and disadvantages of each model;\n",
    "- How to identify and control overfitting\n",
    "- Evaluate model performance\n",
    "- Interpretation"
   ]
  },
  {
   "cell_type": "markdown",
   "metadata": {},
   "source": [
    "### 3.1 Prepare datasets\n",
    "\n",
    "We split the training and test dataset with `test_size=0.3` and selected `fractal_dimension_mean`, `radius_meanm` `perimeter_sd_error` as preliminary features."
   ]
  },
  {
   "cell_type": "code",
   "execution_count": 161,
   "metadata": {},
   "outputs": [],
   "source": [
    "# set fix seed to help reproduce same result\n",
    "random_state = 42\n",
    "\n",
    "# Load the dataset\n",
    "data_df = df.copy()\n",
    "\n",
    "# define target\n",
    "data_df[\"target\"] = data_df[\"diagnosis\"].apply(lambda x: True if x == \"M\" else False)\n",
    "\n",
    "# Split the dataset into training and testing sets\n",
    "X_train, X_test, y_train, y_test = train_test_split(data_df[selected_col], data_df.target, test_size=0.3, random_state=random_state)\n"
   ]
  },
  {
   "cell_type": "markdown",
   "metadata": {},
   "source": [
    "### 3.2 Logistic Regression\n",
    "\n",
    "- Identify and control overfitting\n",
    "    - In this session, we built a `Logistic Regression` model and used `L2(Ridge) Regularization` to control overfitting. We use `Grid Search` and `Cross Validation` to find the most optimal penalty parameter `C`;\n",
    "    - With penalty terms, we see can see the performance gap between training and test set drop from **0.04 to 0.02**;\n",
    "    - We can also reduce number of features to control overfitting;\n",
    "\n",
    "- The optimal model performance we got in our test set is: **0.99**\n",
    "    \n",
    "- The most important predictive variables is: `fractal_dimension_mean`, because it has the highest feature coeficient. This means the predictive output is the most senstive to this variables\n",
    "    \n",
    "- In the last session, we also found the 3 varaibles we used are highly correlated and their VIF(Variance Inflation Factor) are also higher than 5. That means they have multicolinearity and can lead to unstable model performance. Therefore, we boosted trap 5 x 200 sample datasets to evaluate its stability. The average performance in AUC score is **0.98** with stdev **0.013**;"
   ]
  },
  {
   "cell_type": "code",
   "execution_count": 242,
   "metadata": {},
   "outputs": [
    {
     "name": "stdout",
     "output_type": "stream",
     "text": [
      "Best parameters:  {'C': 1000}\n",
      "Best score:  0.9780526186378165\n"
     ]
    }
   ],
   "source": [
    "from sklearn.linear_model import LogisticRegression\n",
    "from sklearn.model_selection import GridSearchCV\n",
    "\n",
    "\n",
    "# Overfitting Control Params\n",
    "param_grid = {\"C\": [0.01, 0.1, 1, 10, 20, 50, 100, 1000, 10000, 20000]}\n",
    "\n",
    "# Create a logistic regression model with fixed random state and fit it to the training set\n",
    "logreg = LogisticRegression(random_state=random_state, penalty=\"l2\", C=C)\n",
    "\n",
    "# Instantiate the grid search object\n",
    "grid_search = GridSearchCV(logreg, param_grid=param_grid, cv=3, scoring=\"roc_auc\")\n",
    "\n",
    "# Fit the grid search object to the training data\n",
    "grid_search.fit(X_train, y_train)\n",
    "\n",
    "# Print the best parameters and best score\n",
    "print(\"Best parameters: \", grid_search.best_params_)\n",
    "print(\"Best score: \", grid_search.best_score_)\n",
    "\n",
    "# Predict the class labels of test data using the best estimator\n",
    "y_pred_proba_test = grid_search.best_estimator_.predict_proba(X_test)\n",
    "y_pred_proba_train = grid_search.best_estimator_.predict_proba(X_train)"
   ]
  },
  {
   "cell_type": "code",
   "execution_count": 251,
   "metadata": {},
   "outputs": [
    {
     "name": "stdout",
     "output_type": "stream",
     "text": [
      "AUC score training set without regularization: 0.9366863426861809\n",
      "AUC score test set without regularization: 0.9769253380364491\n",
      "AUC score training set: 0.9791919355273443\n",
      "AUC score test set: 0.9901528512639624\n"
     ]
    }
   ],
   "source": [
    "from sklearn.linear_model import LogisticRegression\n",
    "from sklearn.feature_selection import SelectFromModel\n",
    "\n",
    "# Create a logistic regression model without regularization terms\n",
    "logreg = LogisticRegression(random_state=random_state)\n",
    "logreg.fit(X_train, y_train, )\n",
    "\n",
    "# Use the trained model to make predictions on the testing set\n",
    "# Use the trained classifier to make predictions on the testing set\n",
    "y_pred_test = logreg.predict(X_test)\n",
    "y_pred_train = logreg.predict(X_train)\n",
    "\n",
    "# Use the trained classifier to calculate predicting probability\n",
    "y_pred_proba_test = logreg.predict_proba(X_test)\n",
    "y_pred_proba_train = logreg.predict_proba(X_train)\n",
    "\n",
    "# Evaluate the performance of the model\n",
    "from sklearn.metrics import roc_auc_score\n",
    "\n",
    "auc_train = roc_auc_score(y_train, y_pred_proba_train[:, 1])\n",
    "auc_test = roc_auc_score(y_test, y_pred_proba_test[:, 1])\n",
    "print(\"AUC score training set without regularization:\", auc_train)\n",
    "print(\"AUC score test set without regularization:\", auc_test)\n",
    "\n",
    "# Create a logistic regression model with fixed random state and fit it to the training set\n",
    "logreg = LogisticRegression(random_state=random_state, penalty=\"l2\", C=1000)\n",
    "logreg.fit(X_train, y_train, )\n",
    "\n",
    "# Use the trained model to make predictions on the testing set\n",
    "# Use the trained classifier to make predictions on the testing set\n",
    "y_pred_test = logreg.predict(X_test)\n",
    "y_pred_train = logreg.predict(X_train)\n",
    "\n",
    "# Use the trained classifier to calculate predicting probability\n",
    "y_pred_proba_test = logreg.predict_proba(X_test)\n",
    "y_pred_proba_train = logreg.predict_proba(X_train)\n",
    "\n",
    "# Evaluate the performance of the model\n",
    "from sklearn.metrics import roc_auc_score\n",
    "\n",
    "auc_train = roc_auc_score(y_train, y_pred_proba_train[:, 1])\n",
    "auc_test = roc_auc_score(y_test, y_pred_proba_test[:, 1])\n",
    "print(\"AUC score training set:\", auc_train)\n",
    "print(\"AUC score test set:\", auc_test)"
   ]
  },
  {
   "cell_type": "code",
   "execution_count": 244,
   "metadata": {},
   "outputs": [
    {
     "name": "stdout",
     "output_type": "stream",
     "text": [
      "The most important predictive variables is: fractal_dimension_mean\n",
      "because it has the highest coeficient: 41.89592558804631\n"
     ]
    }
   ],
   "source": [
    "# identify the most important variables\n",
    "\n",
    "coef_li = list(logreg.coef_[0])\n",
    "max_value = max(coef_li)\n",
    "max_index = coef_li.index(max_value)\n",
    "\n",
    "print(\"The most important predictive variables is:\", selected_col[max_index])\n",
    "print(\"because it has the highest coeficient:\", max_value)"
   ]
  },
  {
   "cell_type": "code",
   "execution_count": 264,
   "metadata": {},
   "outputs": [
    {
     "name": "stdout",
     "output_type": "stream",
     "text": [
      "Cross-validation scores:  [0.9820414783918433, 0.9963235294117647, 0.9823361823361824, 0.9606151122911827, 0.9882767921983608]\n",
      "Mean CV score:  0.9819186189258667\n",
      "CV score standard deviation:  0.013247232371837466\n"
     ]
    }
   ],
   "source": [
    "from sklearn.model_selection import cross_val_score\n",
    "from statistics import stdev, mean\n",
    "\n",
    "# list to collect auc score for each set\n",
    "auc_li = []\n",
    "\n",
    "# Boostrap sample to test stability\n",
    "for i in range(5):\n",
    "    boost_data_df = bootstrap(data_df=data_df, n=200)\n",
    "    \n",
    "    # Calculate the cross-validation scores\n",
    "    # Use the trained classifier to calculate predicting probability\n",
    "    _y_pred_proba = logreg.predict_proba(boost_data_df[selected_col])\n",
    "    auc_li.append(roc_auc_score(boost_data_df.target, _y_pred_proba[:, 1]))\n",
    "    \n",
    "# Print the mean and standard deviation of the cross-validation scores\n",
    "print(\"Cross-validation scores: \", auc_li)\n",
    "print(\"Mean CV score: \", mean(auc_li))\n",
    "print(\"CV score standard deviation: \", stdev(auc_li))"
   ]
  },
  {
   "cell_type": "markdown",
   "metadata": {},
   "source": [
    "### Decision Tree\n",
    "\n",
    "- Identify and control overfitting\n",
    "    - In this session, we built a `Decision Tree Classifier` model, which is very easy to overfit if don't control the tree structure properly.\n",
    "    - `max_depth` and `min_sample_leaf` were used to prevent the tree structure from growing to complex\n",
    "    - `ccp_alpha` was used to remove the branches that don't have significant improve the classification accuracy.\n",
    "    - The performance gap between training and test set drop from **0.1 to 0.005**;\n",
    "\n",
    "- The optimal model performance we got in our test set is: **0.97**\n",
    "    \n",
    "- The most important predictive variables is: `perimeter_sd_error`, because it has the highest feature importance. \n",
    "    \n",
    "- In the last session, we boosted trap 5 x 200 sample datasets to evaluate its stability in order to benchmark with the stability of the Logistic Regression in previous session. The average performance in AUC score is **0.97** with stdev **0.006**;"
   ]
  },
  {
   "cell_type": "code",
   "execution_count": 246,
   "metadata": {},
   "outputs": [
    {
     "name": "stdout",
     "output_type": "stream",
     "text": [
      "Best parameters:  {'ccp_alpha': 0.0001, 'max_depth': 3, 'min_samples_leaf': 20}\n",
      "Best score:  0.9710286042127695\n"
     ]
    }
   ],
   "source": [
    "from sklearn.model_selection import GridSearchCV\n",
    "\n",
    "# Overfitting Control Params\n",
    "param_grid = {\"max_depth\": [1, 3, 5, 10],\n",
    "              \"min_samples_leaf\": [1, 10, 20, 30],\n",
    "              \"ccp_alpha\": [0.0001, 0.001, 0.01, 0.1, 1]}\n",
    "\n",
    "# Instantiate the grid search object\n",
    "grid_search = GridSearchCV(clf, param_grid=param_grid, cv=3, scoring=\"roc_auc\")\n",
    "\n",
    "# Fit the grid search object to the training data\n",
    "grid_search.fit(X_train, y_train)\n",
    "\n",
    "# Print the best parameters and best score\n",
    "print(\"Best parameters: \", grid_search.best_params_)\n",
    "print(\"Best score: \", grid_search.best_score_)\n",
    "\n",
    "# Predict the class labels of test data using the best estimator\n",
    "y_pred_proba_test = grid_search.best_estimator_.predict_proba(X_test)\n",
    "y_pred_proba_train = grid_search.best_estimator_.predict_proba(X_train)"
   ]
  },
  {
   "cell_type": "code",
   "execution_count": 284,
   "metadata": {},
   "outputs": [
    {
     "name": "stdout",
     "output_type": "stream",
     "text": [
      "AUC score training set without regularization: 1.0\n",
      "AUC score test set without regularization: 0.906084656084656\n",
      "AUC score training set: 0.9776690655238404\n",
      "AUC score test set: 0.9725161669606114\n",
      "Test Set Confusion Matrix:\n",
      " [[97 11]\n",
      " [ 7 56]]\n",
      "Accuracy: 0.8947368421052632\n",
      "Precision: 0.835820895522388\n",
      "Recall: 0.8888888888888888\n"
     ]
    }
   ],
   "source": [
    "from sklearn.tree import DecisionTreeClassifier\n",
    "\n",
    "\n",
    "# Create a decision tree classifier without overfitting control\n",
    "clf = DecisionTreeClassifier(random_state=random_state)\n",
    "\n",
    "# Train the classifier on the training set\n",
    "clf.fit(X_train, y_train)\n",
    "\n",
    "# Use the trained classifier to make predictions on the testing set\n",
    "y_pred_test = clf.predict(X_test)\n",
    "y_pred_train = clf.predict(X_train)\n",
    "\n",
    "# Use the trained classifier to calculate predicting probability\n",
    "y_pred_proba_test = clf.predict_proba(X_test)\n",
    "y_pred_proba_train = clf.predict_proba(X_train)\n",
    "\n",
    "# Evaluate the performance of the model\n",
    "from sklearn.metrics import roc_auc_score\n",
    "\n",
    "auc_train = roc_auc_score(y_train, y_pred_proba_train[:, 1])\n",
    "auc_test = roc_auc_score(y_test, y_pred_proba_test[:, 1])\n",
    "print(\"AUC score training set without regularization:\", auc_train)\n",
    "print(\"AUC score test set without regularization:\", auc_test)\n",
    "\n",
    "# Create a decision tree classifier\n",
    "clf = DecisionTreeClassifier(random_state=random_state,\n",
    "                             **grid_search.best_params_)\n",
    "\n",
    "# Train the classifier on the training set\n",
    "clf.fit(X_train, y_train)\n",
    "\n",
    "# Use the trained classifier to make predictions on the testing set\n",
    "y_pred_test = clf.predict(X_test)\n",
    "y_pred_train = clf.predict(X_train)\n",
    "\n",
    "# Use the trained classifier to calculate predicting probability\n",
    "y_pred_proba_test = clf.predict_proba(X_test)\n",
    "y_pred_proba_train = clf.predict_proba(X_train)\n",
    "\n",
    "# Evaluate the performance of the model\n",
    "from sklearn.metrics import roc_auc_score, confusion_matrix, accuracy_score, precision_score, recall_score\n",
    "\n",
    "auc_train = roc_auc_score(y_train, y_pred_proba_train[:, 1])\n",
    "auc_test = roc_auc_score(y_test, y_pred_proba_test[:, 1])\n",
    "print(\"AUC score training set:\", auc_train)\n",
    "print(\"AUC score test set:\", auc_test)\n",
    "\n",
    "print(\"Test Set Confusion Matrix:\\n\",  confusion_matrix(y_test, y_pred_test))\n",
    "print(\"Accuracy:\",  accuracy_score(y_test, y_pred_test))\n",
    "print(\"Precision:\",  precision_score(y_test, y_pred_test))\n",
    "print(\"Recall:\",  recall_score(y_test, y_pred_test))"
   ]
  },
  {
   "cell_type": "code",
   "execution_count": 248,
   "metadata": {},
   "outputs": [
    {
     "name": "stdout",
     "output_type": "stream",
     "text": [
      "The most important predictive variables is: perimeter_sd_error\n",
      "because it has the highest feature importance: 0.898013085733905\n"
     ]
    }
   ],
   "source": [
    "# identify the most important variables\n",
    "\n",
    "coef_li = list(clf.feature_importances_)\n",
    "max_value = max(coef_li)\n",
    "max_index = coef_li.index(max_value)\n",
    "\n",
    "print(\"The most important predictive variables is:\", selected_col[max_index])\n",
    "print(\"because it has the highest feature importance:\", max_value)"
   ]
  },
  {
   "cell_type": "code",
   "execution_count": 268,
   "metadata": {},
   "outputs": [
    {
     "name": "stdout",
     "output_type": "stream",
     "text": [
      "Cross-validation scores:  [0.9725203443802335, 0.9611682708264189, 0.9733924611973392, 0.9706809583858764, 0.9604395604395605]\n",
      "Mean CV score:  0.9676403190458857\n",
      "CV score standard deviation:  0.006322294022978818\n"
     ]
    }
   ],
   "source": [
    "from sklearn.model_selection import cross_val_score\n",
    "from statistics import stdev, mean\n",
    "\n",
    "# list to collect auc score for each set\n",
    "auc_li = []\n",
    "\n",
    "# Boostrap sample to test stability\n",
    "for i in range(5):\n",
    "    boost_data_df = bootstrap(data_df=data_df, n=200)\n",
    "    \n",
    "    # Calculate the cross-validation scores\n",
    "    # Use the trained classifier to calculate predicting probability\n",
    "    _y_pred_proba = clf.predict_proba(boost_data_df[selected_col])\n",
    "    auc_li.append(roc_auc_score(boost_data_df.target, _y_pred_proba[:, 1]))\n",
    "    \n",
    "# Print the mean and standard deviation of the cross-validation scores\n",
    "print(\"Cross-validation scores: \", auc_li)\n",
    "print(\"Mean CV score: \", mean(auc_li))\n",
    "print(\"CV score standard deviation: \", stdev(auc_li))"
   ]
  },
  {
   "cell_type": "markdown",
   "metadata": {},
   "source": [
    "## 4. Explanation"
   ]
  },
  {
   "cell_type": "code",
   "execution_count": 279,
   "metadata": {},
   "outputs": [
    {
     "data": {
      "image/png": "[encoded data removed]",
      "text/plain": [
       "<Figure size 1440x1440 with 1 Axes>"
      ]
     },
     "metadata": {
      "needs_background": "light"
     },
     "output_type": "display_data"
    }
   ],
   "source": [
    "from sklearn.tree import plot_tree\n",
    "import matplotlib.pyplot as plt\n",
    "\n",
    "# assume that 'clf' is your trained decision tree classifier\n",
    "plt.figure(figsize=(20,20))\n",
    "plot_tree(clf, filled=True)\n",
    "plt.show()\n"
   ]
  },
  {
   "cell_type": "markdown",
   "metadata": {},
   "source": [
    "### To Technical Audience\n",
    "\n",
    "**Limitations:**\n",
    "- The number of features is samll. Only 3 features are used and potentially underfitting resulted in 97% records are correcly labeled.\n",
    "- The alogrithm is simple. Only simple decision tree is used;\n",
    "- The sample size is also small. This prevent us to use more features to make the prediction more accurately;\n",
    "- The current model is simply cut off at probability 50%;\n",
    "\n",
    "**Next Steps:**\n",
    "- Collect more data;\n",
    "- Increase the number of features;\n",
    "- Use ensamble algorithms such as GBM or xgboost;\n",
    "- Adjust cut-off probability according to actual application."
   ]
  },
  {
   "cell_type": "markdown",
   "metadata": {},
   "source": [
    "### To Non-Technical Audience\n",
    "\n",
    "- Only 90% patient are correctly. 16% of the health patient have been diagonsis magnlinant incorrectly. 12% magnliant patient weren't diagnosis magnliant.\n",
    "\n",
    "- The current decision tree model predicts magnliant when `perimeter_sd_error <= 0.051` and `radius_mean <= 14.78`, because the model think there is a more than 50% chance the patient will have magnliant in this case. \n",
    "\n",
    "- However, there is slightly lower than 50% chance that a patient will have magnliant when his/her `perimeter_sd_error < 0.051` and `fractal_dimension_mean <= 0.147`. Since the magnliant is a deadly disease, so we may want to further invesitgate when the model is not sure about the results. \n",
    "\n",
    "- For example, according to the test result, when `perimeter_sd_error <= 0.051` and `radius_mean <= 14.78` and `fractal_dimension_mean <= 0.111` , the model is pretty sure that is a magnliant. When `perimeter_sd_error >= 0.051` and `fractal_dimension_mean <= 0.159`, the model is sure that is a benign. Otherwise, there is certain chance that the model prediction is not accurate and require further investigation."
   ]
  },
  {
   "cell_type": "markdown",
   "metadata": {},
   "source": [
    "# Part-2: Feedback"
   ]
  },
  {
   "cell_type": "markdown",
   "metadata": {},
   "source": [
    "## 1. DSI-Instructor-task/part-2-student-samples/student-sample-1.py"
   ]
  },
  {
   "cell_type": "code",
   "execution_count": 298,
   "metadata": {},
   "outputs": [
    {
     "ename": "ImportError",
     "evalue": "cannot import name 'LinearRegression' from 'sklearn' (/Users/dejianchen/opt/anaconda3/lib/python3.7/site-packages/sklearn/__init__.py)",
     "output_type": "error",
     "traceback": [
      "\u001b[0;31m---------------------------------------------------------------------------\u001b[0m",
      "\u001b[0;31mImportError\u001b[0m                               Traceback (most recent call last)",
      "\u001b[0;32m<ipython-input-298-07f05f5aad01>\u001b[0m in \u001b[0;36m<module>\u001b[0;34m\u001b[0m\n\u001b[1;32m      1\u001b[0m \u001b[0;32mimport\u001b[0m \u001b[0mpandas\u001b[0m \u001b[0;32mas\u001b[0m \u001b[0mpd\u001b[0m\u001b[0;34m\u001b[0m\u001b[0;34m\u001b[0m\u001b[0m\n\u001b[1;32m      2\u001b[0m \u001b[0;32mimport\u001b[0m \u001b[0mnumpy\u001b[0m \u001b[0;32mas\u001b[0m \u001b[0mnp\u001b[0m\u001b[0;34m\u001b[0m\u001b[0;34m\u001b[0m\u001b[0m\n\u001b[0;32m----> 3\u001b[0;31m \u001b[0;32mfrom\u001b[0m \u001b[0msklearn\u001b[0m \u001b[0;32mimport\u001b[0m \u001b[0mLinearRegression\u001b[0m\u001b[0;34m\u001b[0m\u001b[0;34m\u001b[0m\u001b[0m\n\u001b[0m\u001b[1;32m      4\u001b[0m \u001b[0;32mfrom\u001b[0m \u001b[0msklearn\u001b[0m\u001b[0;34m.\u001b[0m\u001b[0mcross_validation\u001b[0m \u001b[0;32mimport\u001b[0m \u001b[0mcross_val_score\u001b[0m\u001b[0;34m\u001b[0m\u001b[0;34m\u001b[0m\u001b[0m\n\u001b[1;32m      5\u001b[0m \u001b[0;34m\u001b[0m\u001b[0m\n",
      "\u001b[0;31mImportError\u001b[0m: cannot import name 'LinearRegression' from 'sklearn' (/Users/dejianchen/opt/anaconda3/lib/python3.7/site-packages/sklearn/__init__.py)"
     ]
    }
   ],
   "source": [
    "import pandas as pd\n",
    "import numpy as np\n",
    "from sklearn import LinearRegression\n",
    "from sklearn.cross_validation import cross_val_score\n",
    "\n",
    "# Load data\n",
    "d = pd.read_csv('../data/train.csv')\n",
    "\n",
    "\n",
    "# Setup data for prediction\n",
    "x1 = data.SalaryNormalized\n",
    "x2 = pd.get_dummies(data.ContractType)\n",
    "\n",
    "# Setup model\n",
    "model = LinearRegression()\n",
    "\n",
    "# Evaluate model\n",
    "from sklearn.cross_validation import cross_val_score\n",
    "from sklearn.cross_validation import train_test_split\n",
    "scores = cross_val_score(model, x2, x1, cv=1, scoring='mean_absolute_error')\n",
    "print(scores.mean())"
   ]
  },
  {
   "cell_type": "markdown",
   "metadata": {},
   "source": [
    "### Here are some issues in your code:\n",
    "\n",
    "Please read thru the comments below and understand what each error means. "
   ]
  },
  {
   "cell_type": "markdown",
   "metadata": {},
   "source": [
    "**ImportError:**\n",
    "- LinearRegression is not an attribute directly under sklearn. Instead, it is under sklearn.linear_model. Please refer to https://scikit-learn.org/stable/modules/generated/sklearn.linear_model.LinearRegression.html for the implementation.\n",
    "- Tips\n",
    "    - Make sure you run thru your code before submission;\n",
    "    - Copy and paste error message to Google, which it will tell you how to debug;\n",
    "    - Press `tab` after `sklearn.` or use built-in Python method `dir(sklearn)` to figure out what are the available attributes \n",
    "    \n",
    "- Similar apply to `cross_val_score`. Please Google and figure out how to correctly impletment it, feel free to ask TA if you still can't figure it out."
   ]
  },
  {
   "cell_type": "code",
   "execution_count": 287,
   "metadata": {},
   "outputs": [
    {
     "data": {
      "text/plain": [
       "['__SKLEARN_SETUP__',\n",
       " '__all__',\n",
       " '__builtins__',\n",
       " '__cached__',\n",
       " '__check_build',\n",
       " '__doc__',\n",
       " '__file__',\n",
       " '__loader__',\n",
       " '__name__',\n",
       " '__package__',\n",
       " '__path__',\n",
       " '__spec__',\n",
       " '__version__',\n",
       " '_config',\n",
       " '_distributor_init',\n",
       " 'base',\n",
       " 'clone',\n",
       " 'config_context',\n",
       " 'datasets',\n",
       " 'decomposition',\n",
       " 'exceptions',\n",
       " 'externals',\n",
       " 'feature_extraction',\n",
       " 'feature_selection',\n",
       " 'get_config',\n",
       " 'linear_model',\n",
       " 'logger',\n",
       " 'logging',\n",
       " 'metrics',\n",
       " 'model_selection',\n",
       " 'neighbors',\n",
       " 'os',\n",
       " 'preprocessing',\n",
       " 're',\n",
       " 'set_config',\n",
       " 'setup_module',\n",
       " 'show_versions',\n",
       " 'svm',\n",
       " 'sys',\n",
       " 'tree',\n",
       " 'utils']"
      ]
     },
     "execution_count": 287,
     "metadata": {},
     "output_type": "execute_result"
    }
   ],
   "source": [
    "# Example of dir\n",
    "import sklearn\n",
    "\n",
    "dir(sklearn)"
   ]
  },
  {
   "cell_type": "markdown",
   "metadata": {},
   "source": [
    "**FileNotFoundError**\n",
    "\n",
    "This error means you didn't specify the file path correctly, so there is no file can be read under that directory. In Jupyter Notebook, you can also navigate thru the path by using `tab` after `df = pd.read_csv(../`."
   ]
  },
  {
   "cell_type": "markdown",
   "metadata": {},
   "source": [
    "**NameError: name 'data' is not defined**\n",
    "\n",
    "`data` has not been defined. If you were intend to read the data, the data is store under variable `d`. In Python, you need to define the variable with `=` before you can use call it. \n",
    "\n",
    "Note: A Python variable should be a combination of characters, number or `_` and it should start with a character instead of a number."
   ]
  },
  {
   "cell_type": "markdown",
   "metadata": {},
   "source": [
    "**ValueError: 'mean_absolute_error' is not a valid scoring value. Use sorted(sklearn.metrics.SCORERS.keys()) to get valid options.**\n",
    "\n",
    "`mean_absolute_error` is not exist, please look up [available scoring list](https://scikit-learn.org/stable/modules/model_evaluation.html) on `sklearn`. `neg_mean_absolute_error` is an option for minimizing absolute distance between predicted results and actual result.\n",
    "\n",
    "In addition to the code, Linear Regression with Mean Square Error has closed form solution to solve the optimal parameters, which will be more accurate and effective than using mean absolute error."
   ]
  },
  {
   "cell_type": "markdown",
   "metadata": {},
   "source": [
    "**ValueError: k-fold cross-validation requires at least one train/test split by setting n_splits=2 or more, got n_splits=1.**\n",
    "\n",
    "cross validation should at least has 2 folds. In practice, 3-5 are the typical number folds"
   ]
  },
  {
   "cell_type": "markdown",
   "metadata": {},
   "source": [
    "**Coding Style**\n",
    "\n",
    "`x1, x2` are not clearly to reader between dependent variable and independent variables. Please use more better naming convention such as `X_train, y_train` from the sklearn example.\n",
    "\n",
    "Similarly, `DataFrame` use `df` to differentiate the Data Frame Variable type from the others such as `List`, `Array` and etc. It would be easier to help you read and develop your code."
   ]
  },
  {
   "cell_type": "markdown",
   "metadata": {},
   "source": [
    "### Here are some comments for the methodology:\n",
    "\n",
    "(According to how you use the `cross_val_score` and you did `OneHot Encoding` to the x2 variable, I assume the task is to predict the salary)"
   ]
  },
  {
   "cell_type": "markdown",
   "metadata": {},
   "source": [
    "- It'd better to split the dataset into at 2 samples so that you have at least one sample to validate after finishing your model build.\n",
    "\n",
    "- Don't normalize target variable, because it may be hard to revert back to its original scale. Hence, you will lose your prediction accuracy;\n",
    "\n",
    "- Linear Regression works better with independent variables closed to normal distribution. The OneHot Ecoding gets you binominal distribution which doesn't work very well with Linear Regression. Please review Linear Regression assumption below before applying the features\n",
    "    - Linear relationship\n",
    "    - Multivariate normality\n",
    "    - No or little multicollinearity\n",
    "    - No auto-correlation\n",
    "    - Homoscedasticity\n",
    "    \n",
    "- To evaluate linear regression, R-square is the metrics to measure how good the model is fitted and typically use to evaluate linear regression models."
   ]
  },
  {
   "cell_type": "markdown",
   "metadata": {},
   "source": [
    "### Suggestion:\n",
    "\n",
    "- Please review Linear Regression, understand its assumption and perform manual calculation for Linear Regression model callibration with different estimation method.\n",
    "- Please review different types of errors in Python and understand the root cause."
   ]
  },
  {
   "cell_type": "markdown",
   "metadata": {},
   "source": [
    "## 2. DSI-Instructor-task/part-2-student-samples/student-sample-2.py"
   ]
  },
  {
   "cell_type": "code",
   "execution_count": 304,
   "metadata": {},
   "outputs": [
    {
     "ename": "ModuleNotFoundError",
     "evalue": "No module named 'sklearn.cross_validation'",
     "output_type": "error",
     "traceback": [
      "\u001b[0;31m---------------------------------------------------------------------------\u001b[0m",
      "\u001b[0;31mModuleNotFoundError\u001b[0m                       Traceback (most recent call last)",
      "\u001b[0;32m<ipython-input-304-cbcd390ffa6b>\u001b[0m in \u001b[0;36m<module>\u001b[0;34m\u001b[0m\n\u001b[1;32m      4\u001b[0m \u001b[0;32mimport\u001b[0m \u001b[0mnumpy\u001b[0m \u001b[0;32mas\u001b[0m \u001b[0mnp\u001b[0m\u001b[0;34m\u001b[0m\u001b[0;34m\u001b[0m\u001b[0m\n\u001b[1;32m      5\u001b[0m \u001b[0;32mfrom\u001b[0m \u001b[0msklearn\u001b[0m\u001b[0;34m.\u001b[0m\u001b[0mlinear_model\u001b[0m \u001b[0;32mimport\u001b[0m \u001b[0mLinearRegression\u001b[0m\u001b[0;34m\u001b[0m\u001b[0;34m\u001b[0m\u001b[0m\n\u001b[0;32m----> 6\u001b[0;31m \u001b[0;32mfrom\u001b[0m \u001b[0msklearn\u001b[0m\u001b[0;34m.\u001b[0m\u001b[0mcross_validation\u001b[0m \u001b[0;32mimport\u001b[0m \u001b[0mcross_val_score\u001b[0m\u001b[0;34m\u001b[0m\u001b[0;34m\u001b[0m\u001b[0m\n\u001b[0m\u001b[1;32m      7\u001b[0m \u001b[0;34m\u001b[0m\u001b[0m\n\u001b[1;32m      8\u001b[0m \u001b[0;31m# Load data\u001b[0m\u001b[0;34m\u001b[0m\u001b[0;34m\u001b[0m\u001b[0;34m\u001b[0m\u001b[0m\n",
      "\u001b[0;31mModuleNotFoundError\u001b[0m: No module named 'sklearn.cross_validation'"
     ]
    }
   ],
   "source": [
    "#!/usr/bin/env python\n",
    "\n",
    "import pandas as pd\n",
    "import numpy as np\n",
    "from sklearn.linear_model import LinearRegression\n",
    "from sklearn.cross_validation import cross_val_score\n",
    "\n",
    "# Load data\n",
    "data = pd.read_csv('../data/train.csv')\n",
    "\n",
    "\n",
    "# Setup data for prediction\n",
    "y = data.SalaryNormalized\n",
    "X = pd.get_dummies(data.ContractType)\n",
    "\n",
    "# Setup model\n",
    "model = LinearRegression()\n",
    "\n",
    "# Evaluate model\n",
    "scores = cross_val_score(model, X, y, cv=5, scoring='mean_absolute_error')\n",
    "print(scores.mean())\n"
   ]
  },
  {
   "cell_type": "markdown",
   "metadata": {},
   "source": [
    "### Here are some issues in your code:\n",
    "\n",
    "Please read thru the comments below and understand what each error means. "
   ]
  },
  {
   "cell_type": "markdown",
   "metadata": {},
   "source": [
    "**ImportError:**\n",
    "- LinearRegression is not an attribute directly under sklearn. Instead, it is under sklearn.linear_model. Please refer to https://scikit-learn.org/stable/modules/generated/sklearn.linear_model.LinearRegression.html for the implementation.\n",
    "- Tips\n",
    "    - Make sure you run thru your code before submission;\n",
    "    - Copy and paste error message to Google, which it will tell you how to debug;\n",
    "    - Press `tab` after `sklearn.` or use built-in Python method `dir(sklearn)` to figure out what are the available attributes \n",
    "    \n",
    "- Similar apply to `cross_val_score`. Please Google and figure out how to correctly impletment it, feel free to ask TA if you still can't figure it out."
   ]
  },
  {
   "cell_type": "code",
   "execution_count": 300,
   "metadata": {},
   "outputs": [
    {
     "data": {
      "text/plain": [
       "['__SKLEARN_SETUP__',\n",
       " '__all__',\n",
       " '__builtins__',\n",
       " '__cached__',\n",
       " '__check_build',\n",
       " '__doc__',\n",
       " '__file__',\n",
       " '__loader__',\n",
       " '__name__',\n",
       " '__package__',\n",
       " '__path__',\n",
       " '__spec__',\n",
       " '__version__',\n",
       " '_config',\n",
       " '_distributor_init',\n",
       " 'base',\n",
       " 'clone',\n",
       " 'config_context',\n",
       " 'datasets',\n",
       " 'decomposition',\n",
       " 'exceptions',\n",
       " 'externals',\n",
       " 'feature_extraction',\n",
       " 'feature_selection',\n",
       " 'get_config',\n",
       " 'linear_model',\n",
       " 'logger',\n",
       " 'logging',\n",
       " 'metrics',\n",
       " 'model_selection',\n",
       " 'neighbors',\n",
       " 'os',\n",
       " 'preprocessing',\n",
       " 're',\n",
       " 'set_config',\n",
       " 'setup_module',\n",
       " 'show_versions',\n",
       " 'svm',\n",
       " 'sys',\n",
       " 'tree',\n",
       " 'utils']"
      ]
     },
     "execution_count": 300,
     "metadata": {},
     "output_type": "execute_result"
    }
   ],
   "source": [
    "# Example of dir\n",
    "import sklearn\n",
    "\n",
    "dir(sklearn)"
   ]
  },
  {
   "cell_type": "markdown",
   "metadata": {},
   "source": [
    "**FileNotFoundError**\n",
    "\n",
    "This error means you didn't specify the file path correctly, so there is no file can be read under that directory. In Jupyter Notebook, you can also navigate thru the path by using `tab` after `df = pd.read_csv(../`."
   ]
  },
  {
   "cell_type": "markdown",
   "metadata": {},
   "source": [
    "**ValueError: 'mean_absolute_error' is not a valid scoring value. Use sorted(sklearn.metrics.SCORERS.keys()) to get valid options.**\n",
    "\n",
    "`mean_absolute_error` is not exist, please look up [available scoring list](https://scikit-learn.org/stable/modules/model_evaluation.html) on `sklearn`. `neg_mean_absolute_error` is an option for minimizing absolute distance between predicted results and actual result.\n",
    "\n",
    "In addition to the code, Linear Regression with Mean Square Error has closed form solution to solve the optimal parameters, which will be more accurate and effective than using mean absolute error."
   ]
  },
  {
   "cell_type": "markdown",
   "metadata": {},
   "source": [
    "**ValueError: 'mean_absolute_error' is not a valid scoring value. Use sorted(sklearn.metrics.SCORERS.keys()) to get valid options.**\n",
    "\n",
    "`mean_absolute_error` is not exist, please look up [available scoring list](https://scikit-learn.org/stable/modules/model_evaluation.html) on `sklearn`. `neg_mean_absolute_error` is an option for minimizing absolute distance between predicted results and actual result.\n",
    "\n",
    "In addition to the code, Linear Regression with Mean Square Error has closed form solution to solve the optimal parameters, which will be more accurate and effective than using mean absolute error."
   ]
  },
  {
   "cell_type": "markdown",
   "metadata": {},
   "source": [
    "### Here are some comments for the methodology:\n",
    "\n",
    "- It'd better to split the dataset into at 2 samples so that you have at least one sample to validate after finishing your model build.\n",
    "\n",
    "- Don't normalize target variable, because it may be hard to revert back to its original scale. Hence, you will lose your prediction accuracy;\n",
    "\n",
    "- Linear Regression works better with independent variables closed to normal distribution. The OneHot Ecoding gets you binominal distribution which doesn't work very well with Linear Regression. Please review Linear Regression assumption below before applying the features\n",
    "    - Linear relationship\n",
    "    - Multivariate normality\n",
    "    - No or little multicollinearity\n",
    "    - No auto-correlation\n",
    "    - Homoscedasticity\n",
    "    \n",
    "- To evaluate linear regression, R-square is the metrics to measure how good the model is fitted and typically use to evaluate linear regression models."
   ]
  },
  {
   "cell_type": "markdown",
   "metadata": {},
   "source": [
    "### Suggestion:\n",
    "\n",
    "- Please review Linear Regression, understand its assumption and perform manual calculation for Linear Regression model callibration with different estimation method.\n",
    "- Please review different types of errors in Python and understand the root cause."
   ]
  },
  {
   "cell_type": "code",
   "execution_count": null,
   "metadata": {},
   "outputs": [],
   "source": []
  }
 ],
 "metadata": {
  "kernelspec": {
   "display_name": "Python 3",
   "language": "python",
   "name": "python3"
  },
  "language_info": {
   "codemirror_mode": {
    "name": "ipython",
    "version": 3
   },
   "file_extension": ".py",
   "mimetype": "text/x-python",
   "name": "python",
   "nbconvert_exporter": "python",
   "pygments_lexer": "ipython3",
   "version": "3.7.6"
  }
 },
 "nbformat": 4,
 "nbformat_minor": 5
}
